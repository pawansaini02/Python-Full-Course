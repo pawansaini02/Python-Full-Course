{
 "cells": [
  {
   "cell_type": "markdown",
   "metadata": {
    "id": "gf8gFGxwUnmG"
   },
   "source": [
    "# PYTHON BASICS"
   ]
  },
  {
   "cell_type": "code",
   "execution_count": 3,
   "metadata": {
    "id": "GRn5KYNvUVLZ",
    "tags": []
   },
   "outputs": [],
   "source": [
    "# Basic datatypes include \n",
    "# int\n",
    "# float\n",
    "# string \n",
    "# boolean \n",
    "# complex\n",
    "# (ctrl + /) single line comment "
   ]
  },
  {
   "cell_type": "code",
   "execution_count": 4,
   "metadata": {
    "colab": {
     "base_uri": "https://localhost:8080/"
    },
    "executionInfo": {
     "elapsed": 383,
     "status": "ok",
     "timestamp": 1644408020050,
     "user": {
      "displayName": "Aarii trainer",
      "photoUrl": "https://lh3.googleusercontent.com/a/default-user=s64",
      "userId": "11230220778135645252"
     },
     "user_tz": -330
    },
    "id": "NB6xjV5OU53N",
    "outputId": "75df2bd0-eb60-4c1c-84a0-a55eec4125d9"
   },
   "outputs": [
    {
     "name": "stdout",
     "output_type": "stream",
     "text": [
      "1\n",
      "2\n"
     ]
    }
   ],
   "source": [
    "# datatypes \n",
    "# int a = 1;\n",
    "# printf(a)\n",
    "\n",
    "\n",
    "a = 1\n",
    "b = 2\n",
    "print(a)\n",
    "print(b)"
   ]
  },
  {
   "cell_type": "code",
   "execution_count": 5,
   "metadata": {
    "colab": {
     "base_uri": "https://localhost:8080/"
    },
    "executionInfo": {
     "elapsed": 28,
     "status": "ok",
     "timestamp": 1644407810059,
     "user": {
      "displayName": "Aarii trainer",
      "photoUrl": "https://lh3.googleusercontent.com/a/default-user=s64",
      "userId": "11230220778135645252"
     },
     "user_tz": -330
    },
    "id": "5GPc04irVnQ5",
    "outputId": "dadebe01-a411-4bcc-c3d5-d2d87869a1c8"
   },
   "outputs": [
    {
     "data": {
      "text/plain": [
       "2"
      ]
     },
     "execution_count": 5,
     "metadata": {},
     "output_type": "execute_result"
    }
   ],
   "source": [
    "b = 2 \n",
    "b"
   ]
  },
  {
   "cell_type": "code",
   "execution_count": 6,
   "metadata": {
    "colab": {
     "base_uri": "https://localhost:8080/"
    },
    "executionInfo": {
     "elapsed": 671,
     "status": "ok",
     "timestamp": 1644407908736,
     "user": {
      "displayName": "Aarii trainer",
      "photoUrl": "https://lh3.googleusercontent.com/a/default-user=s64",
      "userId": "11230220778135645252"
     },
     "user_tz": -330
    },
    "id": "zlHBndPQV93L",
    "outputId": "af8d6739-e6e8-4aaa-a17a-1ff4bb06c2d7"
   },
   "outputs": [
    {
     "data": {
      "text/plain": [
       "int"
      ]
     },
     "execution_count": 6,
     "metadata": {},
     "output_type": "execute_result"
    }
   ],
   "source": [
    "type(a)"
   ]
  },
  {
   "cell_type": "code",
   "execution_count": 7,
   "metadata": {
    "colab": {
     "base_uri": "https://localhost:8080/"
    },
    "executionInfo": {
     "elapsed": 12,
     "status": "ok",
     "timestamp": 1644407923064,
     "user": {
      "displayName": "Aarii trainer",
      "photoUrl": "https://lh3.googleusercontent.com/a/default-user=s64",
      "userId": "11230220778135645252"
     },
     "user_tz": -330
    },
    "id": "QMtV7AtkWWIH",
    "outputId": "1df2123d-5b59-440e-e45b-61af75b49f14"
   },
   "outputs": [
    {
     "data": {
      "text/plain": [
       "int"
      ]
     },
     "execution_count": 7,
     "metadata": {},
     "output_type": "execute_result"
    }
   ],
   "source": [
    "type(b)"
   ]
  },
  {
   "cell_type": "code",
   "execution_count": 8,
   "metadata": {
    "colab": {
     "base_uri": "https://localhost:8080/"
    },
    "executionInfo": {
     "elapsed": 423,
     "status": "ok",
     "timestamp": 1644408086207,
     "user": {
      "displayName": "Aarii trainer",
      "photoUrl": "https://lh3.googleusercontent.com/a/default-user=s64",
      "userId": "11230220778135645252"
     },
     "user_tz": -330
    },
    "id": "UmqqP227WZpf",
    "outputId": "86df33ab-94c8-4508-d7f8-79738036c538"
   },
   "outputs": [
    {
     "name": "stdout",
     "output_type": "stream",
     "text": [
      "<class 'int'>\n",
      "<class 'int'>\n"
     ]
    }
   ],
   "source": [
    "print(type(a))\n",
    "print(type(b))"
   ]
  },
  {
   "cell_type": "code",
   "execution_count": 9,
   "metadata": {
    "colab": {
     "base_uri": "https://localhost:8080/"
    },
    "executionInfo": {
     "elapsed": 413,
     "status": "ok",
     "timestamp": 1644408443351,
     "user": {
      "displayName": "Aarii trainer",
      "photoUrl": "https://lh3.googleusercontent.com/a/default-user=s64",
      "userId": "11230220778135645252"
     },
     "user_tz": -330
    },
    "id": "mZzyiUdRW6k1",
    "outputId": "7c298743-f01b-459b-8f59-2d960cf8f8a2"
   },
   "outputs": [
    {
     "data": {
      "text/plain": [
       "2.345"
      ]
     },
     "execution_count": 9,
     "metadata": {},
     "output_type": "execute_result"
    }
   ],
   "source": [
    "c = 2.345 \n",
    "c"
   ]
  },
  {
   "cell_type": "code",
   "execution_count": 10,
   "metadata": {
    "colab": {
     "base_uri": "https://localhost:8080/"
    },
    "executionInfo": {
     "elapsed": 8,
     "status": "ok",
     "timestamp": 1644408448473,
     "user": {
      "displayName": "Aarii trainer",
      "photoUrl": "https://lh3.googleusercontent.com/a/default-user=s64",
      "userId": "11230220778135645252"
     },
     "user_tz": -330
    },
    "id": "x0wdwAwyXeDN",
    "outputId": "82a0a8d8-655f-4f18-db29-deb133ee4b28"
   },
   "outputs": [
    {
     "data": {
      "text/plain": [
       "float"
      ]
     },
     "execution_count": 10,
     "metadata": {},
     "output_type": "execute_result"
    }
   ],
   "source": [
    "type(c)"
   ]
  },
  {
   "cell_type": "code",
   "execution_count": 11,
   "metadata": {
    "colab": {
     "base_uri": "https://localhost:8080/"
    },
    "executionInfo": {
     "elapsed": 26,
     "status": "ok",
     "timestamp": 1644408454445,
     "user": {
      "displayName": "Aarii trainer",
      "photoUrl": "https://lh3.googleusercontent.com/a/default-user=s64",
      "userId": "11230220778135645252"
     },
     "user_tz": -330
    },
    "id": "vjbpPkaVYZ9d",
    "outputId": "eb7aa6c0-5d9f-4352-88c7-6926b662223c"
   },
   "outputs": [
    {
     "name": "stdout",
     "output_type": "stream",
     "text": [
      "<class 'float'>\n"
     ]
    }
   ],
   "source": [
    "print(type(c))   #original sytax includes class 'float'"
   ]
  },
  {
   "cell_type": "code",
   "execution_count": 12,
   "metadata": {
    "colab": {
     "base_uri": "https://localhost:8080/"
    },
    "executionInfo": {
     "elapsed": 10,
     "status": "ok",
     "timestamp": 1644408521727,
     "user": {
      "displayName": "Aarii trainer",
      "photoUrl": "https://lh3.googleusercontent.com/a/default-user=s64",
      "userId": "11230220778135645252"
     },
     "user_tz": -330
    },
    "id": "0s7s2CvPYbdM",
    "outputId": "60f9c122-6e86-45d5-b901-e796ebb5387d"
   },
   "outputs": [
    {
     "name": "stdout",
     "output_type": "stream",
     "text": [
      "2.345\n",
      "<class 'float'>\n"
     ]
    }
   ],
   "source": [
    "print(c)\n",
    "print(type(c))"
   ]
  },
  {
   "cell_type": "code",
   "execution_count": 13,
   "metadata": {
    "colab": {
     "base_uri": "https://localhost:8080/"
    },
    "executionInfo": {
     "elapsed": 364,
     "status": "ok",
     "timestamp": 1644408638358,
     "user": {
      "displayName": "Aarii trainer",
      "photoUrl": "https://lh3.googleusercontent.com/a/default-user=s64",
      "userId": "11230220778135645252"
     },
     "user_tz": -330
    },
    "id": "Fj8JnT0VYsAb",
    "outputId": "cd7df66e-e808-4827-f43d-5779e5e17f03"
   },
   "outputs": [
    {
     "data": {
      "text/plain": [
       "(1, 2, 2.345, float)"
      ]
     },
     "execution_count": 13,
     "metadata": {},
     "output_type": "execute_result"
    }
   ],
   "source": [
    "a,b,c,type(c)"
   ]
  },
  {
   "cell_type": "code",
   "execution_count": 14,
   "metadata": {
    "colab": {
     "base_uri": "https://localhost:8080/"
    },
    "executionInfo": {
     "elapsed": 14,
     "status": "ok",
     "timestamp": 1644408723022,
     "user": {
      "displayName": "Aarii trainer",
      "photoUrl": "https://lh3.googleusercontent.com/a/default-user=s64",
      "userId": "11230220778135645252"
     },
     "user_tz": -330
    },
    "id": "t8YPvD7OZEtE",
    "outputId": "1d4ea382-4edf-4edf-d30c-e3b1c56cb78e"
   },
   "outputs": [
    {
     "data": {
      "text/plain": [
       "str"
      ]
     },
     "execution_count": 14,
     "metadata": {},
     "output_type": "execute_result"
    }
   ],
   "source": [
    "d = 'Hi'\n",
    "e = \"Hi\"\n",
    "# f = 'Hi\" python doesn't accept this \n",
    "type(e)"
   ]
  },
  {
   "cell_type": "code",
   "execution_count": 15,
   "metadata": {
    "colab": {
     "base_uri": "https://localhost:8080/"
    },
    "executionInfo": {
     "elapsed": 14,
     "status": "ok",
     "timestamp": 1644408793638,
     "user": {
      "displayName": "Aarii trainer",
      "photoUrl": "https://lh3.googleusercontent.com/a/default-user=s64",
      "userId": "11230220778135645252"
     },
     "user_tz": -330
    },
    "id": "iI-4rsTsZX3H",
    "outputId": "f8029043-b692-48f2-9b44-fcf21cadbf52"
   },
   "outputs": [
    {
     "name": "stdout",
     "output_type": "stream",
     "text": [
      "1 2 2.345 Hi Hi\n"
     ]
    }
   ],
   "source": [
    "print(a,b,c,d,e)"
   ]
  },
  {
   "cell_type": "code",
   "execution_count": 16,
   "metadata": {
    "id": "Z5vSmQd6ZyGB"
   },
   "outputs": [],
   "source": [
    "#Boolean \n",
    "f = True \n",
    "g = False"
   ]
  },
  {
   "cell_type": "code",
   "execution_count": 17,
   "metadata": {
    "colab": {
     "base_uri": "https://localhost:8080/"
    },
    "executionInfo": {
     "elapsed": 16,
     "status": "ok",
     "timestamp": 1644408954506,
     "user": {
      "displayName": "Aarii trainer",
      "photoUrl": "https://lh3.googleusercontent.com/a/default-user=s64",
      "userId": "11230220778135645252"
     },
     "user_tz": -330
    },
    "id": "wg9GOMffaSYF",
    "outputId": "520b1d61-3307-457f-b24e-e4850bb497b1"
   },
   "outputs": [
    {
     "name": "stdout",
     "output_type": "stream",
     "text": [
      "True\n",
      "False\n"
     ]
    }
   ],
   "source": [
    "print(f)\n",
    "print(g)"
   ]
  },
  {
   "cell_type": "code",
   "execution_count": 18,
   "metadata": {
    "colab": {
     "base_uri": "https://localhost:8080/"
    },
    "executionInfo": {
     "elapsed": 9,
     "status": "ok",
     "timestamp": 1644408966609,
     "user": {
      "displayName": "Aarii trainer",
      "photoUrl": "https://lh3.googleusercontent.com/a/default-user=s64",
      "userId": "11230220778135645252"
     },
     "user_tz": -330
    },
    "id": "mD2XcYQWaUvj",
    "outputId": "89c28053-be6a-4a7c-ea6c-c811e53e91ba"
   },
   "outputs": [
    {
     "data": {
      "text/plain": [
       "bool"
      ]
     },
     "execution_count": 18,
     "metadata": {},
     "output_type": "execute_result"
    }
   ],
   "source": [
    "type(f)"
   ]
  },
  {
   "cell_type": "code",
   "execution_count": 19,
   "metadata": {
    "colab": {
     "base_uri": "https://localhost:8080/"
    },
    "executionInfo": {
     "elapsed": 17,
     "status": "ok",
     "timestamp": 1644408969932,
     "user": {
      "displayName": "Aarii trainer",
      "photoUrl": "https://lh3.googleusercontent.com/a/default-user=s64",
      "userId": "11230220778135645252"
     },
     "user_tz": -330
    },
    "id": "EgbLn_2AaYj_",
    "outputId": "a31f25e5-c37c-4ad3-d0a3-da3ca8966085"
   },
   "outputs": [
    {
     "data": {
      "text/plain": [
       "bool"
      ]
     },
     "execution_count": 19,
     "metadata": {},
     "output_type": "execute_result"
    }
   ],
   "source": [
    "type(g)"
   ]
  },
  {
   "cell_type": "code",
   "execution_count": 20,
   "metadata": {
    "colab": {
     "base_uri": "https://localhost:8080/"
    },
    "executionInfo": {
     "elapsed": 479,
     "status": "ok",
     "timestamp": 1644410309686,
     "user": {
      "displayName": "Aarii trainer",
      "photoUrl": "https://lh3.googleusercontent.com/a/default-user=s64",
      "userId": "11230220778135645252"
     },
     "user_tz": -330
    },
    "id": "_-wTIb83fIFL",
    "outputId": "5c43e159-b58d-4989-b84f-735abc58e153"
   },
   "outputs": [
    {
     "name": "stdout",
     "output_type": "stream",
     "text": [
      "True\n"
     ]
    }
   ],
   "source": [
    "a = 10\n",
    "print(a>0)"
   ]
  },
  {
   "cell_type": "code",
   "execution_count": 21,
   "metadata": {
    "colab": {
     "base_uri": "https://localhost:8080/"
    },
    "executionInfo": {
     "elapsed": 4,
     "status": "ok",
     "timestamp": 1644410343438,
     "user": {
      "displayName": "Aarii trainer",
      "photoUrl": "https://lh3.googleusercontent.com/a/default-user=s64",
      "userId": "11230220778135645252"
     },
     "user_tz": -330
    },
    "id": "ytsM8EPyfipN",
    "outputId": "0fd8802f-8b3b-470a-cec4-41437b8e15ac"
   },
   "outputs": [
    {
     "name": "stdout",
     "output_type": "stream",
     "text": [
      "False\n"
     ]
    }
   ],
   "source": [
    "a = -12\n",
    "print(a>0)"
   ]
  },
  {
   "cell_type": "code",
   "execution_count": 22,
   "metadata": {
    "colab": {
     "base_uri": "https://localhost:8080/"
    },
    "executionInfo": {
     "elapsed": 491,
     "status": "ok",
     "timestamp": 1644410513621,
     "user": {
      "displayName": "Aarii trainer",
      "photoUrl": "https://lh3.googleusercontent.com/a/default-user=s64",
      "userId": "11230220778135645252"
     },
     "user_tz": -330
    },
    "id": "7tUHI-2df7uP",
    "outputId": "3ebee30d-9bb8-4e2a-9a48-2bcd89a563fa"
   },
   "outputs": [
    {
     "name": "stdout",
     "output_type": "stream",
     "text": [
      "False\n"
     ]
    }
   ],
   "source": [
    "a = 10 \n",
    "print(a>10)"
   ]
  },
  {
   "cell_type": "code",
   "execution_count": 23,
   "metadata": {
    "colab": {
     "base_uri": "https://localhost:8080/"
    },
    "executionInfo": {
     "elapsed": 11,
     "status": "ok",
     "timestamp": 1644409157655,
     "user": {
      "displayName": "Aarii trainer",
      "photoUrl": "https://lh3.googleusercontent.com/a/default-user=s64",
      "userId": "11230220778135645252"
     },
     "user_tz": -330
    },
    "id": "cwRmM6WgaZRA",
    "outputId": "19641277-41ad-4895-cd4a-b01025ad576e"
   },
   "outputs": [
    {
     "data": {
      "text/plain": [
       "(7+5j)"
      ]
     },
     "execution_count": 23,
     "metadata": {},
     "output_type": "execute_result"
    }
   ],
   "source": [
    "# Complex (real + imaginary part)   #only j is accepted for the imaginary part of the number\n",
    "\n",
    "h = 2+3j \n",
    "aa = 5+2j\n",
    "h+aa"
   ]
  },
  {
   "cell_type": "code",
   "execution_count": 24,
   "metadata": {
    "colab": {
     "base_uri": "https://localhost:8080/"
    },
    "executionInfo": {
     "elapsed": 17,
     "status": "ok",
     "timestamp": 1644409050112,
     "user": {
      "displayName": "Aarii trainer",
      "photoUrl": "https://lh3.googleusercontent.com/a/default-user=s64",
      "userId": "11230220778135645252"
     },
     "user_tz": -330
    },
    "id": "N5XvOgwbarlY",
    "outputId": "8baa60b9-3f1c-4077-a126-c32faa0dc38b"
   },
   "outputs": [
    {
     "name": "stdout",
     "output_type": "stream",
     "text": [
      "(2+3j)\n"
     ]
    }
   ],
   "source": [
    "print(h)"
   ]
  },
  {
   "cell_type": "code",
   "execution_count": 25,
   "metadata": {
    "colab": {
     "base_uri": "https://localhost:8080/"
    },
    "executionInfo": {
     "elapsed": 16,
     "status": "ok",
     "timestamp": 1644409054120,
     "user": {
      "displayName": "Aarii trainer",
      "photoUrl": "https://lh3.googleusercontent.com/a/default-user=s64",
      "userId": "11230220778135645252"
     },
     "user_tz": -330
    },
    "id": "884fHrDBatBM",
    "outputId": "d42cfe67-24ee-41ca-c25e-92a14d6f2206"
   },
   "outputs": [
    {
     "data": {
      "text/plain": [
       "complex"
      ]
     },
     "execution_count": 25,
     "metadata": {},
     "output_type": "execute_result"
    }
   ],
   "source": [
    "type(h)"
   ]
  },
  {
   "cell_type": "code",
   "execution_count": null,
   "metadata": {
    "colab": {
     "base_uri": "https://localhost:8080/"
    },
    "executionInfo": {
     "elapsed": 5519,
     "status": "ok",
     "timestamp": 1644409623668,
     "user": {
      "displayName": "Aarii trainer",
      "photoUrl": "https://lh3.googleusercontent.com/a/default-user=s64",
      "userId": "11230220778135645252"
     },
     "user_tz": -330
    },
    "id": "lP7XWr_cat41",
    "outputId": "46f8f1ea-3255-4233-8a57-a29829ec0561"
   },
   "outputs": [],
   "source": [
    "# user input (by default datatype of input is a string)\n",
    "a = input(\"Enter first number:\")\n",
    "b = input(\"Enter second number :\")\n",
    "print(\"First number is:\",a)\n",
    "print(\"Second number is:\",b)"
   ]
  },
  {
   "cell_type": "code",
   "execution_count": null,
   "metadata": {
    "colab": {
     "base_uri": "https://localhost:8080/"
    },
    "executionInfo": {
     "elapsed": 453,
     "status": "ok",
     "timestamp": 1644409461588,
     "user": {
      "displayName": "Aarii trainer",
      "photoUrl": "https://lh3.googleusercontent.com/a/default-user=s64",
      "userId": "11230220778135645252"
     },
     "user_tz": -330
    },
    "id": "4ZJuOOVobj7p",
    "outputId": "13ff0c75-960c-42b8-a5c0-ab6e292b40b3"
   },
   "outputs": [],
   "source": [
    "type(a)"
   ]
  },
  {
   "cell_type": "code",
   "execution_count": null,
   "metadata": {
    "colab": {
     "base_uri": "https://localhost:8080/"
    },
    "executionInfo": {
     "elapsed": 18,
     "status": "ok",
     "timestamp": 1644409656440,
     "user": {
      "displayName": "Aarii trainer",
      "photoUrl": "https://lh3.googleusercontent.com/a/default-user=s64",
      "userId": "11230220778135645252"
     },
     "user_tz": -330
    },
    "id": "nUnbFM_AdATL",
    "outputId": "307d1e72-ea30-4d86-ab3c-f8a1a92eeade"
   },
   "outputs": [],
   "source": [
    "type(b)"
   ]
  },
  {
   "cell_type": "code",
   "execution_count": null,
   "metadata": {
    "colab": {
     "base_uri": "https://localhost:8080/",
     "height": 35
    },
    "executionInfo": {
     "elapsed": 11,
     "status": "ok",
     "timestamp": 1644409636197,
     "user": {
      "displayName": "Aarii trainer",
      "photoUrl": "https://lh3.googleusercontent.com/a/default-user=s64",
      "userId": "11230220778135645252"
     },
     "user_tz": -330
    },
    "id": "SdrfSAa3bp1m",
    "outputId": "f331e422-5cdf-4ec3-8506-0ab40e6a849f"
   },
   "outputs": [],
   "source": [
    "a + b  #concatenation of a string not addition because both a and b are strings "
   ]
  },
  {
   "cell_type": "code",
   "execution_count": null,
   "metadata": {
    "colab": {
     "base_uri": "https://localhost:8080/"
    },
    "executionInfo": {
     "elapsed": 34193,
     "status": "ok",
     "timestamp": 1644409790876,
     "user": {
      "displayName": "Aarii trainer",
      "photoUrl": "https://lh3.googleusercontent.com/a/default-user=s64",
      "userId": "11230220778135645252"
     },
     "user_tz": -330
    },
    "id": "VZWBrjcDckU0",
    "outputId": "3dcb7329-825d-4b72-e6e3-2a335adfd9e6"
   },
   "outputs": [],
   "source": [
    "#for actual addition(integer input) , do typecasting (convert from str to int)\n",
    "a = int(input(\"Enter first number:\"))\n",
    "b = int(input(\"Enter second number :\"))\n",
    "print(\"First number is:\",a)\n",
    "print(\"Second number is:\",b)"
   ]
  },
  {
   "cell_type": "code",
   "execution_count": null,
   "metadata": {
    "colab": {
     "base_uri": "https://localhost:8080/"
    },
    "executionInfo": {
     "elapsed": 18,
     "status": "ok",
     "timestamp": 1644409796276,
     "user": {
      "displayName": "Aarii trainer",
      "photoUrl": "https://lh3.googleusercontent.com/a/default-user=s64",
      "userId": "11230220778135645252"
     },
     "user_tz": -330
    },
    "id": "fBOxexUSdZdP",
    "outputId": "fa945589-488a-4f95-886e-352561c27c0b"
   },
   "outputs": [],
   "source": [
    "type(a)"
   ]
  },
  {
   "cell_type": "code",
   "execution_count": null,
   "metadata": {
    "colab": {
     "base_uri": "https://localhost:8080/"
    },
    "executionInfo": {
     "elapsed": 16,
     "status": "ok",
     "timestamp": 1644409814350,
     "user": {
      "displayName": "Aarii trainer",
      "photoUrl": "https://lh3.googleusercontent.com/a/default-user=s64",
      "userId": "11230220778135645252"
     },
     "user_tz": -330
    },
    "id": "GB6VVdCJdjK2",
    "outputId": "9587ffb3-c750-42fe-a877-ae8ae880eee3"
   },
   "outputs": [],
   "source": [
    "a + b"
   ]
  },
  {
   "cell_type": "code",
   "execution_count": null,
   "metadata": {
    "colab": {
     "base_uri": "https://localhost:8080/"
    },
    "executionInfo": {
     "elapsed": 3146,
     "status": "ok",
     "timestamp": 1644409915262,
     "user": {
      "displayName": "Aarii trainer",
      "photoUrl": "https://lh3.googleusercontent.com/a/default-user=s64",
      "userId": "11230220778135645252"
     },
     "user_tz": -330
    },
    "id": "BVcbK60KdnfI",
    "outputId": "28e4f43b-9883-42e8-efe3-9208d3f39783"
   },
   "outputs": [],
   "source": [
    "# user input (by default datatype of input is a string)\n",
    "a = input(\"Enter first number:\")\n",
    "b = input(\"Enter second number :\")\n",
    "print(\"First number is:\",a)\n",
    "print(\"Second number is:\",b)"
   ]
  },
  {
   "cell_type": "code",
   "execution_count": null,
   "metadata": {
    "colab": {
     "base_uri": "https://localhost:8080/"
    },
    "executionInfo": {
     "elapsed": 9,
     "status": "ok",
     "timestamp": 1644409949871,
     "user": {
      "displayName": "Aarii trainer",
      "photoUrl": "https://lh3.googleusercontent.com/a/default-user=s64",
      "userId": "11230220778135645252"
     },
     "user_tz": -330
    },
    "id": "AwMpuRAud_ZF",
    "outputId": "bc95d5bc-606e-4af2-ea74-45813b1036af"
   },
   "outputs": [],
   "source": [
    "c = float(a) + float(b)\n",
    "print(c)"
   ]
  },
  {
   "cell_type": "code",
   "execution_count": null,
   "metadata": {
    "colab": {
     "base_uri": "https://localhost:8080/"
    },
    "executionInfo": {
     "elapsed": 11,
     "status": "ok",
     "timestamp": 1644409956165,
     "user": {
      "displayName": "Aarii trainer",
      "photoUrl": "https://lh3.googleusercontent.com/a/default-user=s64",
      "userId": "11230220778135645252"
     },
     "user_tz": -330
    },
    "id": "7aNyVpsEeEA7",
    "outputId": "077e532f-4452-49a2-c591-865474fa0267"
   },
   "outputs": [],
   "source": [
    "type(c)"
   ]
  },
  {
   "cell_type": "code",
   "execution_count": null,
   "metadata": {
    "colab": {
     "base_uri": "https://localhost:8080/",
     "height": 35
    },
    "executionInfo": {
     "elapsed": 398,
     "status": "ok",
     "timestamp": 1644410102607,
     "user": {
      "displayName": "Aarii trainer",
      "photoUrl": "https://lh3.googleusercontent.com/a/default-user=s64",
      "userId": "11230220778135645252"
     },
     "user_tz": -330
    },
    "id": "tRphoODgeKPv",
    "outputId": "2063e4d6-04b5-4af9-8732-b9f8fba875ea"
   },
   "outputs": [],
   "source": [
    "a = \"10\" \n",
    "b = \"hi\"\n",
    "c = a + b\n",
    "c"
   ]
  },
  {
   "cell_type": "code",
   "execution_count": null,
   "metadata": {
    "id": "ogwmDA7uelI4"
   },
   "outputs": [],
   "source": [
    "a = str(10)"
   ]
  },
  {
   "cell_type": "code",
   "execution_count": null,
   "metadata": {
    "id": "b2Xe_SAZfSFv"
   },
   "outputs": [],
   "source": [
    "a = 3\n",
    "b = 4"
   ]
  },
  {
   "cell_type": "code",
   "execution_count": null,
   "metadata": {
    "colab": {
     "base_uri": "https://localhost:8080/"
    },
    "executionInfo": {
     "elapsed": 10,
     "status": "ok",
     "timestamp": 1644410604221,
     "user": {
      "displayName": "Aarii trainer",
      "photoUrl": "https://lh3.googleusercontent.com/a/default-user=s64",
      "userId": "11230220778135645252"
     },
     "user_tz": -330
    },
    "id": "oiyIRlbJgi0F",
    "outputId": "6933ca35-4ccd-4593-937d-57c47d57f268"
   },
   "outputs": [],
   "source": [
    "a + b"
   ]
  },
  {
   "cell_type": "code",
   "execution_count": null,
   "metadata": {
    "colab": {
     "base_uri": "https://localhost:8080/"
    },
    "executionInfo": {
     "elapsed": 5,
     "status": "ok",
     "timestamp": 1644410616249,
     "user": {
      "displayName": "Aarii trainer",
      "photoUrl": "https://lh3.googleusercontent.com/a/default-user=s64",
      "userId": "11230220778135645252"
     },
     "user_tz": -330
    },
    "id": "SbJN9r8bgoLT",
    "outputId": "2ebefe51-0712-4ec1-e855-9ac668ce5d31"
   },
   "outputs": [],
   "source": [
    "a - b"
   ]
  },
  {
   "cell_type": "code",
   "execution_count": null,
   "metadata": {
    "colab": {
     "base_uri": "https://localhost:8080/"
    },
    "executionInfo": {
     "elapsed": 5,
     "status": "ok",
     "timestamp": 1644410638330,
     "user": {
      "displayName": "Aarii trainer",
      "photoUrl": "https://lh3.googleusercontent.com/a/default-user=s64",
      "userId": "11230220778135645252"
     },
     "user_tz": -330
    },
    "id": "3Y1EsmKCgrZJ",
    "outputId": "4823297f-a9f1-45f6-9dd0-9dc9a71a1649"
   },
   "outputs": [],
   "source": [
    "a*b"
   ]
  },
  {
   "cell_type": "code",
   "execution_count": null,
   "metadata": {
    "colab": {
     "base_uri": "https://localhost:8080/"
    },
    "executionInfo": {
     "elapsed": 21,
     "status": "ok",
     "timestamp": 1644410640165,
     "user": {
      "displayName": "Aarii trainer",
      "photoUrl": "https://lh3.googleusercontent.com/a/default-user=s64",
      "userId": "11230220778135645252"
     },
     "user_tz": -330
    },
    "id": "H7CVjkqogwga",
    "outputId": "78342892-dcc8-4603-d3d9-7d8ffa3617ff"
   },
   "outputs": [],
   "source": [
    "a/b"
   ]
  },
  {
   "cell_type": "code",
   "execution_count": null,
   "metadata": {
    "colab": {
     "base_uri": "https://localhost:8080/"
    },
    "executionInfo": {
     "elapsed": 584,
     "status": "ok",
     "timestamp": 1644410655318,
     "user": {
      "displayName": "Aarii trainer",
      "photoUrl": "https://lh3.googleusercontent.com/a/default-user=s64",
      "userId": "11230220778135645252"
     },
     "user_tz": -330
    },
    "id": "G86_jMnIgxOF",
    "outputId": "ddc58fc9-980b-4d66-cba6-6b82a79db55b"
   },
   "outputs": [],
   "source": [
    "a%b"
   ]
  },
  {
   "cell_type": "code",
   "execution_count": null,
   "metadata": {
    "colab": {
     "base_uri": "https://localhost:8080/"
    },
    "executionInfo": {
     "elapsed": 46,
     "status": "ok",
     "timestamp": 1644410658934,
     "user": {
      "displayName": "Aarii trainer",
      "photoUrl": "https://lh3.googleusercontent.com/a/default-user=s64",
      "userId": "11230220778135645252"
     },
     "user_tz": -330
    },
    "id": "ZuphBEsCgySY",
    "outputId": "3f652b4d-0458-473a-f202-de1e3f0e35b1"
   },
   "outputs": [],
   "source": [
    "a // b #floor division (returns only the integer part)"
   ]
  },
  {
   "cell_type": "code",
   "execution_count": null,
   "metadata": {
    "colab": {
     "base_uri": "https://localhost:8080/"
    },
    "executionInfo": {
     "elapsed": 456,
     "status": "ok",
     "timestamp": 1644410783526,
     "user": {
      "displayName": "Aarii trainer",
      "photoUrl": "https://lh3.googleusercontent.com/a/default-user=s64",
      "userId": "11230220778135645252"
     },
     "user_tz": -330
    },
    "id": "kWit4NI9g1qg",
    "outputId": "eb604adb-a4e2-4ad6-f70f-9ce25558c1ca"
   },
   "outputs": [],
   "source": [
    "# Square of a number \n",
    "a = 4\n",
    "square = a**2\n",
    "print(square)"
   ]
  },
  {
   "cell_type": "code",
   "execution_count": null,
   "metadata": {
    "colab": {
     "base_uri": "https://localhost:8080/"
    },
    "executionInfo": {
     "elapsed": 6,
     "status": "ok",
     "timestamp": 1644410799798,
     "user": {
      "displayName": "Aarii trainer",
      "photoUrl": "https://lh3.googleusercontent.com/a/default-user=s64",
      "userId": "11230220778135645252"
     },
     "user_tz": -330
    },
    "id": "teR2j5YlhPm2",
    "outputId": "917434a2-6d58-4b4e-85e4-ee8b193b27d9"
   },
   "outputs": [],
   "source": [
    "a = 4\n",
    "square = a*a\n",
    "print(square)"
   ]
  },
  {
   "cell_type": "code",
   "execution_count": null,
   "metadata": {
    "colab": {
     "base_uri": "https://localhost:8080/"
    },
    "executionInfo": {
     "elapsed": 3365,
     "status": "ok",
     "timestamp": 1644749913489,
     "user": {
      "displayName": "Aarii trainer",
      "photoUrl": "https://lh3.googleusercontent.com/a/default-user=s64",
      "userId": "11230220778135645252"
     },
     "user_tz": -330
    },
    "id": "FleHCfJ5hYAe",
    "outputId": "2488ef50-2282-49c9-fb5a-65dc43734053"
   },
   "outputs": [],
   "source": [
    "# different ways to use the formatted strings \n",
    "a = int(input(\"Enter a number :\"))\n",
    "square = a**2 \n",
    "# print(f\"The square of {a} is {square}\")\n",
    "# print(f\"The square of {a} is :\",square)\n",
    "# print(f\"The square of {a} is :\",a**2)\n",
    "print(f\"The square of {a} is {a**2}\")"
   ]
  },
  {
   "cell_type": "code",
   "execution_count": null,
   "metadata": {
    "colab": {
     "base_uri": "https://localhost:8080/"
    },
    "executionInfo": {
     "elapsed": 6,
     "status": "ok",
     "timestamp": 1644412033911,
     "user": {
      "displayName": "Aarii trainer",
      "photoUrl": "https://lh3.googleusercontent.com/a/default-user=s64",
      "userId": "11230220778135645252"
     },
     "user_tz": -330
    },
    "id": "Xy9ptXvthfl6",
    "outputId": "cca56b55-78fe-41ed-a7bf-ae3dde37f4ec"
   },
   "outputs": [],
   "source": [
    "pow(3,2)    #3 is the number , 2 is the power  "
   ]
  },
  {
   "cell_type": "code",
   "execution_count": null,
   "metadata": {
    "id": "NTRZ7CePmpJg"
   },
   "outputs": [],
   "source": [
    "a = \"PYTHON\""
   ]
  },
  {
   "cell_type": "code",
   "execution_count": null,
   "metadata": {
    "colab": {
     "base_uri": "https://localhost:8080/"
    },
    "executionInfo": {
     "elapsed": 6,
     "status": "ok",
     "timestamp": 1644412245187,
     "user": {
      "displayName": "Aarii trainer",
      "photoUrl": "https://lh3.googleusercontent.com/a/default-user=s64",
      "userId": "11230220778135645252"
     },
     "user_tz": -330
    },
    "id": "mjvfpPTkm4jC",
    "outputId": "83d653d6-6275-48a9-ba56-23c9e8274184"
   },
   "outputs": [],
   "source": [
    "type(a)"
   ]
  },
  {
   "cell_type": "code",
   "execution_count": null,
   "metadata": {
    "colab": {
     "base_uri": "https://localhost:8080/",
     "height": 35
    },
    "executionInfo": {
     "elapsed": 12,
     "status": "ok",
     "timestamp": 1644412254172,
     "user": {
      "displayName": "Aarii trainer",
      "photoUrl": "https://lh3.googleusercontent.com/a/default-user=s64",
      "userId": "11230220778135645252"
     },
     "user_tz": -330
    },
    "id": "CoeLLcP-m5F-",
    "outputId": "a24bce58-b5cd-4895-afb1-bd6e2aa1685c"
   },
   "outputs": [],
   "source": [
    "a[0]"
   ]
  },
  {
   "cell_type": "code",
   "execution_count": null,
   "metadata": {
    "colab": {
     "base_uri": "https://localhost:8080/",
     "height": 35
    },
    "executionInfo": {
     "elapsed": 13,
     "status": "ok",
     "timestamp": 1644412261665,
     "user": {
      "displayName": "Aarii trainer",
      "photoUrl": "https://lh3.googleusercontent.com/a/default-user=s64",
      "userId": "11230220778135645252"
     },
     "user_tz": -330
    },
    "id": "43T1C_Ubm7MI",
    "outputId": "700ec9e6-f121-43d7-e155-ee4af6dd7523"
   },
   "outputs": [],
   "source": [
    "a[1]"
   ]
  },
  {
   "cell_type": "code",
   "execution_count": null,
   "metadata": {
    "id": "56x_rMnRm83E"
   },
   "outputs": [],
   "source": [
    "# PYTHON\n",
    "# 012345 - index of the characters in the string\n",
    "# 0-5-4-3-2-1 - negative indexing "
   ]
  },
  {
   "cell_type": "code",
   "execution_count": null,
   "metadata": {
    "colab": {
     "base_uri": "https://localhost:8080/",
     "height": 35
    },
    "executionInfo": {
     "elapsed": 12,
     "status": "ok",
     "timestamp": 1644412334857,
     "user": {
      "displayName": "Aarii trainer",
      "photoUrl": "https://lh3.googleusercontent.com/a/default-user=s64",
      "userId": "11230220778135645252"
     },
     "user_tz": -330
    },
    "id": "mfSY7sZWnKiX",
    "outputId": "b6d1ac00-fcfa-459e-dbfc-dd60a23f8fe5"
   },
   "outputs": [],
   "source": [
    "a[-1] #reverse indexing "
   ]
  },
  {
   "cell_type": "code",
   "execution_count": null,
   "metadata": {
    "colab": {
     "base_uri": "https://localhost:8080/",
     "height": 35
    },
    "executionInfo": {
     "elapsed": 14,
     "status": "ok",
     "timestamp": 1644412339351,
     "user": {
      "displayName": "Aarii trainer",
      "photoUrl": "https://lh3.googleusercontent.com/a/default-user=s64",
      "userId": "11230220778135645252"
     },
     "user_tz": -330
    },
    "id": "VqKniVQ-nO4b",
    "outputId": "a49f5a94-b383-4a9d-adf3-fce7b32d1d57"
   },
   "outputs": [],
   "source": [
    "a[-2]"
   ]
  },
  {
   "cell_type": "code",
   "execution_count": null,
   "metadata": {
    "colab": {
     "base_uri": "https://localhost:8080/",
     "height": 35
    },
    "executionInfo": {
     "elapsed": 17,
     "status": "ok",
     "timestamp": 1644412349837,
     "user": {
      "displayName": "Aarii trainer",
      "photoUrl": "https://lh3.googleusercontent.com/a/default-user=s64",
      "userId": "11230220778135645252"
     },
     "user_tz": -330
    },
    "id": "gya3sW4ynQC9",
    "outputId": "986d88cc-386a-4f76-e430-b3cf7d12d689"
   },
   "outputs": [],
   "source": [
    "a[-0]"
   ]
  },
  {
   "cell_type": "code",
   "execution_count": null,
   "metadata": {
    "colab": {
     "base_uri": "https://localhost:8080/",
     "height": 35
    },
    "executionInfo": {
     "elapsed": 407,
     "status": "ok",
     "timestamp": 1644412641072,
     "user": {
      "displayName": "Aarii trainer",
      "photoUrl": "https://lh3.googleusercontent.com/a/default-user=s64",
      "userId": "11230220778135645252"
     },
     "user_tz": -330
    },
    "id": "JTzkvYXNoUHI",
    "outputId": "3f77475c-6ce6-4952-f43f-7706bbaa9757"
   },
   "outputs": [],
   "source": [
    "'python ' * 10 #repeating a string "
   ]
  },
  {
   "cell_type": "code",
   "execution_count": null,
   "metadata": {
    "colab": {
     "base_uri": "https://localhost:8080/",
     "height": 35
    },
    "executionInfo": {
     "elapsed": 23,
     "status": "ok",
     "timestamp": 1644412671575,
     "user": {
      "displayName": "Aarii trainer",
      "photoUrl": "https://lh3.googleusercontent.com/a/default-user=s64",
      "userId": "11230220778135645252"
     },
     "user_tz": -330
    },
    "id": "U-EKRl4IocB4",
    "outputId": "a9e08800-d934-4b3c-8b0b-1b89211774a1"
   },
   "outputs": [],
   "source": [
    "a = 'python' \n",
    "a + ' trainings'"
   ]
  },
  {
   "cell_type": "code",
   "execution_count": null,
   "metadata": {
    "colab": {
     "base_uri": "https://localhost:8080/"
    },
    "executionInfo": {
     "elapsed": 8,
     "status": "ok",
     "timestamp": 1644412757036,
     "user": {
      "displayName": "Aarii trainer",
      "photoUrl": "https://lh3.googleusercontent.com/a/default-user=s64",
      "userId": "11230220778135645252"
     },
     "user_tz": -330
    },
    "id": "_61JiNx8ozvx",
    "outputId": "321e2da9-7abe-488d-a919-fe1f761923f6"
   },
   "outputs": [],
   "source": [
    "print('Hello world!')"
   ]
  },
  {
   "cell_type": "code",
   "execution_count": null,
   "metadata": {
    "colab": {
     "base_uri": "https://localhost:8080/"
    },
    "executionInfo": {
     "elapsed": 348,
     "status": "ok",
     "timestamp": 1644412775274,
     "user": {
      "displayName": "Aarii trainer",
      "photoUrl": "https://lh3.googleusercontent.com/a/default-user=s64",
      "userId": "11230220778135645252"
     },
     "user_tz": -330
    },
    "id": "BIlVnpMto2lM",
    "outputId": "6ae0ac9f-5353-4437-d596-a5e0139947fd"
   },
   "outputs": [],
   "source": [
    "print(\"10+15\")"
   ]
  },
  {
   "cell_type": "code",
   "execution_count": null,
   "metadata": {
    "colab": {
     "base_uri": "https://localhost:8080/"
    },
    "executionInfo": {
     "elapsed": 361,
     "status": "ok",
     "timestamp": 1644412942284,
     "user": {
      "displayName": "Aarii trainer",
      "photoUrl": "https://lh3.googleusercontent.com/a/default-user=s64",
      "userId": "11230220778135645252"
     },
     "user_tz": -330
    },
    "id": "d1_MZ1BGolms",
    "outputId": "dbbe5632-4f95-4865-dce2-e7700ba451f2"
   },
   "outputs": [],
   "source": [
    "# raw string \n",
    "print('c:users\\newfolder\\scripts')\n",
    "print(\"\")\n",
    "print(r'c:users\\newfolder\\scripts')  # raw string removes the special meaning of \\n(new line), \\t(tab space)"
   ]
  },
  {
   "cell_type": "code",
   "execution_count": null,
   "metadata": {
    "colab": {
     "base_uri": "https://localhost:8080/"
    },
    "executionInfo": {
     "elapsed": 3702,
     "status": "ok",
     "timestamp": 1644413043887,
     "user": {
      "displayName": "Aarii trainer",
      "photoUrl": "https://lh3.googleusercontent.com/a/default-user=s64",
      "userId": "11230220778135645252"
     },
     "user_tz": -330
    },
    "id": "GSenv61jpjvF",
    "outputId": "079e9f4a-29f7-4697-f764-828848f3dee5"
   },
   "outputs": [],
   "source": [
    "#Formatted string (refers to the value inside the variable and prints that in the statement)\n",
    "a = int(input(\"Enter 1st number :\"))\n",
    "b = int(input(\"Enter 2nd number :\"))\n",
    "c = a + b\n",
    "print(\"Sum of a and b is\",c)      #normal string\n",
    "print(f\"Sum of {a} and {b} is\",c) #foramtted string "
   ]
  },
  {
   "cell_type": "code",
   "execution_count": null,
   "metadata": {
    "colab": {
     "base_uri": "https://localhost:8080/"
    },
    "executionInfo": {
     "elapsed": 7253,
     "status": "ok",
     "timestamp": 1644412434989,
     "user": {
      "displayName": "Aarii trainer",
      "photoUrl": "https://lh3.googleusercontent.com/a/default-user=s64",
      "userId": "11230220778135645252"
     },
     "user_tz": -330
    },
    "id": "jdEK5cZ2nSmi",
    "outputId": "5760a0d2-a051-4c7e-d0cf-74a0e634f4a8"
   },
   "outputs": [],
   "source": [
    "# to give output of any expression directly from the user input we use eval keyword\n",
    "result = eval(input(\"Enter an expression :\"))\n",
    "print(result)"
   ]
  },
  {
   "cell_type": "code",
   "execution_count": null,
   "metadata": {
    "colab": {
     "base_uri": "https://localhost:8080/"
    },
    "executionInfo": {
     "elapsed": 16,
     "status": "ok",
     "timestamp": 1644412456366,
     "user": {
      "displayName": "Aarii trainer",
      "photoUrl": "https://lh3.googleusercontent.com/a/default-user=s64",
      "userId": "11230220778135645252"
     },
     "user_tz": -330
    },
    "id": "IkAkHMsqnloN",
    "outputId": "b8e3fd05-2537-4ae8-e103-86f42ed51912"
   },
   "outputs": [],
   "source": [
    "9+7-2"
   ]
  },
  {
   "cell_type": "code",
   "execution_count": null,
   "metadata": {
    "id": "HZGIJa7Ansmk"
   },
   "outputs": [],
   "source": []
  },
  {
   "cell_type": "code",
   "execution_count": null,
   "metadata": {
    "id": "xDwfH0TNn7sm"
   },
   "outputs": [],
   "source": []
  }
 ],
 "metadata": {
  "colab": {
   "authorship_tag": "ABX9TyMS0VGjJcZBZ1n+hkW6NG41",
   "collapsed_sections": [],
   "name": "class 3.ipynb",
   "provenance": []
  },
  "kernelspec": {
   "display_name": "Python 3 (ipykernel)",
   "language": "python",
   "name": "python3"
  },
  "language_info": {
   "codemirror_mode": {
    "name": "ipython",
    "version": 3
   },
   "file_extension": ".py",
   "mimetype": "text/x-python",
   "name": "python",
   "nbconvert_exporter": "python",
   "pygments_lexer": "ipython3",
   "version": "3.9.7"
  }
 },
 "nbformat": 4,
 "nbformat_minor": 4
}
